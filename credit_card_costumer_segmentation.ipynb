{
 "cells": [
  {
   "cell_type": "code",
   "execution_count": null,
   "id": "c607ea2b",
   "metadata": {},
   "outputs": [],
   "source": []
  },
  {
   "cell_type": "code",
   "execution_count": null,
   "id": "acaea185",
   "metadata": {},
   "outputs": [],
   "source": []
  },
  {
   "cell_type": "code",
   "execution_count": null,
   "id": "e4cfad9b",
   "metadata": {},
   "outputs": [],
   "source": []
  },
  {
   "cell_type": "code",
   "execution_count": null,
   "id": "74c30f76",
   "metadata": {},
   "outputs": [],
   "source": []
  },
  {
   "cell_type": "code",
   "execution_count": null,
   "id": "6533c134",
   "metadata": {},
   "outputs": [],
   "source": []
  },
  {
   "cell_type": "markdown",
   "id": "2b91d463",
   "metadata": {},
   "source": [
    "# Libraries"
   ]
  },
  {
   "cell_type": "code",
   "execution_count": 1,
   "id": "e08176e0",
   "metadata": {},
   "outputs": [],
   "source": [
    "# Data Manipulation\n",
    "import numpy as np\n",
    "import pandas as pd\n",
    "import os\n",
    "\n",
    "# Data Visualization\n",
    "import matplotlib.pyplot as plt\n",
    "import seaborn as sns\n",
    "from matplotlib import style\n",
    "\n",
    "# Preprocessing and Modeling\n",
    "from sklearn.preprocessing import StandardScaler\n",
    "from sklearn.decomposition import PCA\n",
    "from sklearn.impute import SimpleImputer\n",
    "from sklearn.cluster import KMeans\n",
    "from tqdm import tqdm\n",
    "\n",
    "# Matplotlib Style\n",
    "style.use('ggplot') or plt.style.use('ggplot')\n",
    "\n",
    "# Random Seed\n",
    "RANDOM_STATE = 123"
   ]
  },
  {
   "cell_type": "markdown",
   "id": "b7a09be4",
   "metadata": {},
   "source": [
    "# Data"
   ]
  },
  {
   "cell_type": "markdown",
   "id": "86f47478",
   "metadata": {},
   "source": [
    "The sample Dataset summarizes the usage behavior of about 9000 active credit card holders during the last 6 months. The file is at a customer level with 18 behavioral variables.\n",
    "\n",
    "- `CUSTID`: Identification of Credit Card holder (Categorical)\n",
    "- `BALANCE`: Balance amount left in their account to make purchases (\n",
    "- `BALANCEFREQUENCY` : How frequently the Balance is updated, score between 0 and 1 (1 = frequently updated, 0 = not frequently updated)\n",
    "- `PURCHASES` : Amount of purchases made from account\n",
    "- `ONEOFFPURCHASES` : Maximum purchase amount done in one-go\n",
    "- `INSTALLMENTSPURCHASES`: Amount of purchase done in installment\n",
    "- `CASHADVANCE`: Cash in advance given by the user\n",
    "- `PURCHASESFREQUENCY`: How frequently the Purchases are being made, score between 0 and 1 (1 = frequently purchased, 0 = not frequently purchased)\n",
    "- `ONEOFFPURCHASESFREQUENCY`: How frequently Purchases are happening in one-go (1 = frequently purchased, 0 = not frequently purchased)\n",
    "-  `PURCHASESINSTALLMENTSFREQUENCY`: How frequently purchases in installments are being done (1 = frequently done, 0 = not frequently done)\n",
    "-  `CASHADVANCEFREQUENCY`: How frequently the cash in advance being paid\n",
    "-  `CASHADVANCETRX`: Number of Transactions made with \"Cash in Advanced\"\n",
    "-  `PURCHASESTRX`: Numbe of purchase transactions made\n",
    "-  `CREDITLIMIT`: Limit of Credit Card for user\n",
    "-  `PAYMENTS`: Amount of Payment done by user\n",
    "-  `MINIMUM_PAYMENTS`: Minimum amount of payments made by user\n",
    "-  `PRCFULLPAYMENT`: Percent of full payment paid by user\n",
    "-  `TENURE`: Tenure of credit card service for user\n",
    "\n",
    "Source: [Kaggle](https://www.kaggle.com/arjunbhasin2013/ccdata) "
   ]
  },
  {
   "cell_type": "code",
   "execution_count": 2,
   "id": "65cace87",
   "metadata": {},
   "outputs": [],
   "source": [
    "path_credit = \"credit_card_dataset\"\n",
    "file_credit = \"CC GENERAL.csv\""
   ]
  },
  {
   "cell_type": "code",
   "execution_count": 3,
   "id": "f802cfbb",
   "metadata": {},
   "outputs": [
    {
     "data": {
      "text/html": [
       "<div>\n",
       "<style scoped>\n",
       "    .dataframe tbody tr th:only-of-type {\n",
       "        vertical-align: middle;\n",
       "    }\n",
       "\n",
       "    .dataframe tbody tr th {\n",
       "        vertical-align: top;\n",
       "    }\n",
       "\n",
       "    .dataframe thead th {\n",
       "        text-align: right;\n",
       "    }\n",
       "</style>\n",
       "<table border=\"1\" class=\"dataframe\">\n",
       "  <thead>\n",
       "    <tr style=\"text-align: right;\">\n",
       "      <th></th>\n",
       "      <th>CUST_ID</th>\n",
       "      <th>BALANCE</th>\n",
       "      <th>BALANCE_FREQUENCY</th>\n",
       "      <th>PURCHASES</th>\n",
       "      <th>ONEOFF_PURCHASES</th>\n",
       "      <th>INSTALLMENTS_PURCHASES</th>\n",
       "      <th>CASH_ADVANCE</th>\n",
       "      <th>PURCHASES_FREQUENCY</th>\n",
       "      <th>ONEOFF_PURCHASES_FREQUENCY</th>\n",
       "      <th>PURCHASES_INSTALLMENTS_FREQUENCY</th>\n",
       "      <th>CASH_ADVANCE_FREQUENCY</th>\n",
       "      <th>CASH_ADVANCE_TRX</th>\n",
       "      <th>PURCHASES_TRX</th>\n",
       "      <th>CREDIT_LIMIT</th>\n",
       "      <th>PAYMENTS</th>\n",
       "      <th>MINIMUM_PAYMENTS</th>\n",
       "      <th>PRC_FULL_PAYMENT</th>\n",
       "      <th>TENURE</th>\n",
       "    </tr>\n",
       "  </thead>\n",
       "  <tbody>\n",
       "    <tr>\n",
       "      <th>0</th>\n",
       "      <td>C10001</td>\n",
       "      <td>40.900749</td>\n",
       "      <td>0.818182</td>\n",
       "      <td>95.40</td>\n",
       "      <td>0.00</td>\n",
       "      <td>95.4</td>\n",
       "      <td>0.000000</td>\n",
       "      <td>0.166667</td>\n",
       "      <td>0.000000</td>\n",
       "      <td>0.083333</td>\n",
       "      <td>0.000000</td>\n",
       "      <td>0</td>\n",
       "      <td>2</td>\n",
       "      <td>1000.0</td>\n",
       "      <td>201.802084</td>\n",
       "      <td>139.509787</td>\n",
       "      <td>0.000000</td>\n",
       "      <td>12</td>\n",
       "    </tr>\n",
       "    <tr>\n",
       "      <th>1</th>\n",
       "      <td>C10002</td>\n",
       "      <td>3202.467416</td>\n",
       "      <td>0.909091</td>\n",
       "      <td>0.00</td>\n",
       "      <td>0.00</td>\n",
       "      <td>0.0</td>\n",
       "      <td>6442.945483</td>\n",
       "      <td>0.000000</td>\n",
       "      <td>0.000000</td>\n",
       "      <td>0.000000</td>\n",
       "      <td>0.250000</td>\n",
       "      <td>4</td>\n",
       "      <td>0</td>\n",
       "      <td>7000.0</td>\n",
       "      <td>4103.032597</td>\n",
       "      <td>1072.340217</td>\n",
       "      <td>0.222222</td>\n",
       "      <td>12</td>\n",
       "    </tr>\n",
       "    <tr>\n",
       "      <th>2</th>\n",
       "      <td>C10003</td>\n",
       "      <td>2495.148862</td>\n",
       "      <td>1.000000</td>\n",
       "      <td>773.17</td>\n",
       "      <td>773.17</td>\n",
       "      <td>0.0</td>\n",
       "      <td>0.000000</td>\n",
       "      <td>1.000000</td>\n",
       "      <td>1.000000</td>\n",
       "      <td>0.000000</td>\n",
       "      <td>0.000000</td>\n",
       "      <td>0</td>\n",
       "      <td>12</td>\n",
       "      <td>7500.0</td>\n",
       "      <td>622.066742</td>\n",
       "      <td>627.284787</td>\n",
       "      <td>0.000000</td>\n",
       "      <td>12</td>\n",
       "    </tr>\n",
       "    <tr>\n",
       "      <th>3</th>\n",
       "      <td>C10004</td>\n",
       "      <td>1666.670542</td>\n",
       "      <td>0.636364</td>\n",
       "      <td>1499.00</td>\n",
       "      <td>1499.00</td>\n",
       "      <td>0.0</td>\n",
       "      <td>205.788017</td>\n",
       "      <td>0.083333</td>\n",
       "      <td>0.083333</td>\n",
       "      <td>0.000000</td>\n",
       "      <td>0.083333</td>\n",
       "      <td>1</td>\n",
       "      <td>1</td>\n",
       "      <td>7500.0</td>\n",
       "      <td>0.000000</td>\n",
       "      <td>NaN</td>\n",
       "      <td>0.000000</td>\n",
       "      <td>12</td>\n",
       "    </tr>\n",
       "    <tr>\n",
       "      <th>4</th>\n",
       "      <td>C10005</td>\n",
       "      <td>817.714335</td>\n",
       "      <td>1.000000</td>\n",
       "      <td>16.00</td>\n",
       "      <td>16.00</td>\n",
       "      <td>0.0</td>\n",
       "      <td>0.000000</td>\n",
       "      <td>0.083333</td>\n",
       "      <td>0.083333</td>\n",
       "      <td>0.000000</td>\n",
       "      <td>0.000000</td>\n",
       "      <td>0</td>\n",
       "      <td>1</td>\n",
       "      <td>1200.0</td>\n",
       "      <td>678.334763</td>\n",
       "      <td>244.791237</td>\n",
       "      <td>0.000000</td>\n",
       "      <td>12</td>\n",
       "    </tr>\n",
       "  </tbody>\n",
       "</table>\n",
       "</div>"
      ],
      "text/plain": [
       "  CUST_ID      BALANCE  BALANCE_FREQUENCY  PURCHASES  ONEOFF_PURCHASES  \\\n",
       "0  C10001    40.900749           0.818182      95.40              0.00   \n",
       "1  C10002  3202.467416           0.909091       0.00              0.00   \n",
       "2  C10003  2495.148862           1.000000     773.17            773.17   \n",
       "3  C10004  1666.670542           0.636364    1499.00           1499.00   \n",
       "4  C10005   817.714335           1.000000      16.00             16.00   \n",
       "\n",
       "   INSTALLMENTS_PURCHASES  CASH_ADVANCE  PURCHASES_FREQUENCY  \\\n",
       "0                    95.4      0.000000             0.166667   \n",
       "1                     0.0   6442.945483             0.000000   \n",
       "2                     0.0      0.000000             1.000000   \n",
       "3                     0.0    205.788017             0.083333   \n",
       "4                     0.0      0.000000             0.083333   \n",
       "\n",
       "   ONEOFF_PURCHASES_FREQUENCY  PURCHASES_INSTALLMENTS_FREQUENCY  \\\n",
       "0                    0.000000                          0.083333   \n",
       "1                    0.000000                          0.000000   \n",
       "2                    1.000000                          0.000000   \n",
       "3                    0.083333                          0.000000   \n",
       "4                    0.083333                          0.000000   \n",
       "\n",
       "   CASH_ADVANCE_FREQUENCY  CASH_ADVANCE_TRX  PURCHASES_TRX  CREDIT_LIMIT  \\\n",
       "0                0.000000                 0              2        1000.0   \n",
       "1                0.250000                 4              0        7000.0   \n",
       "2                0.000000                 0             12        7500.0   \n",
       "3                0.083333                 1              1        7500.0   \n",
       "4                0.000000                 0              1        1200.0   \n",
       "\n",
       "      PAYMENTS  MINIMUM_PAYMENTS  PRC_FULL_PAYMENT  TENURE  \n",
       "0   201.802084        139.509787          0.000000      12  \n",
       "1  4103.032597       1072.340217          0.222222      12  \n",
       "2   622.066742        627.284787          0.000000      12  \n",
       "3     0.000000               NaN          0.000000      12  \n",
       "4   678.334763        244.791237          0.000000      12  "
      ]
     },
     "execution_count": 3,
     "metadata": {},
     "output_type": "execute_result"
    }
   ],
   "source": [
    "# Open csv from path_credit\n",
    "credit_card = pd.read_csv(os.path.join(path_credit, file_credit))\n",
    "credit_card.head()"
   ]
  },
  {
   "cell_type": "markdown",
   "id": "fc1cc43c",
   "metadata": {},
   "source": [
    "# Exploratory Data Analysis"
   ]
  },
  {
   "cell_type": "markdown",
   "id": "14d062bc",
   "metadata": {},
   "source": [
    "## Data Types"
   ]
  },
  {
   "cell_type": "markdown",
   "id": "8ad3f62b",
   "metadata": {},
   "source": [
    "All variables are numerical(integer or float) except for `CUST_ID`."
   ]
  },
  {
   "cell_type": "code",
   "execution_count": 4,
   "id": "c32eb9cf",
   "metadata": {},
   "outputs": [
    {
     "name": "stdout",
     "output_type": "stream",
     "text": [
      "<class 'pandas.core.frame.DataFrame'>\n",
      "RangeIndex: 8950 entries, 0 to 8949\n",
      "Data columns (total 18 columns):\n",
      " #   Column                            Non-Null Count  Dtype  \n",
      "---  ------                            --------------  -----  \n",
      " 0   CUST_ID                           8950 non-null   object \n",
      " 1   BALANCE                           8950 non-null   float64\n",
      " 2   BALANCE_FREQUENCY                 8950 non-null   float64\n",
      " 3   PURCHASES                         8950 non-null   float64\n",
      " 4   ONEOFF_PURCHASES                  8950 non-null   float64\n",
      " 5   INSTALLMENTS_PURCHASES            8950 non-null   float64\n",
      " 6   CASH_ADVANCE                      8950 non-null   float64\n",
      " 7   PURCHASES_FREQUENCY               8950 non-null   float64\n",
      " 8   ONEOFF_PURCHASES_FREQUENCY        8950 non-null   float64\n",
      " 9   PURCHASES_INSTALLMENTS_FREQUENCY  8950 non-null   float64\n",
      " 10  CASH_ADVANCE_FREQUENCY            8950 non-null   float64\n",
      " 11  CASH_ADVANCE_TRX                  8950 non-null   int64  \n",
      " 12  PURCHASES_TRX                     8950 non-null   int64  \n",
      " 13  CREDIT_LIMIT                      8949 non-null   float64\n",
      " 14  PAYMENTS                          8950 non-null   float64\n",
      " 15  MINIMUM_PAYMENTS                  8637 non-null   float64\n",
      " 16  PRC_FULL_PAYMENT                  8950 non-null   float64\n",
      " 17  TENURE                            8950 non-null   int64  \n",
      "dtypes: float64(14), int64(3), object(1)\n",
      "memory usage: 1.2+ MB\n"
     ]
    }
   ],
   "source": [
    "# Column type\n",
    "credit_card.info()"
   ]
  },
  {
   "cell_type": "markdown",
   "id": "97814639",
   "metadata": {},
   "source": [
    "## Data Size and Missing Values"
   ]
  },
  {
   "cell_type": "markdown",
   "id": "fafec31b",
   "metadata": {},
   "source": [
    "We have $8950$ observations(rows) and $21$ columns in the data set."
   ]
  },
  {
   "cell_type": "code",
   "execution_count": 5,
   "id": "a5c6dbff",
   "metadata": {},
   "outputs": [
    {
     "data": {
      "text/plain": [
       "(8950, 18)"
      ]
     },
     "execution_count": 5,
     "metadata": {},
     "output_type": "execute_result"
    }
   ],
   "source": [
    "# Data Size\n",
    "credit_card.shape"
   ]
  },
  {
   "cell_type": "markdown",
   "id": "99d81f19",
   "metadata": {},
   "source": [
    "There are missing values in the columns `minimum_payments`, `cash_advance`, `activated_date`, `last_payment_date`, `balance`, `credit_limit`."
   ]
  },
  {
   "cell_type": "code",
   "execution_count": 6,
   "id": "0ec99b11",
   "metadata": {},
   "outputs": [
    {
     "data": {
      "text/plain": [
       "MINIMUM_PAYMENTS    3.497207\n",
       "CREDIT_LIMIT        0.011173\n",
       "dtype: float64"
      ]
     },
     "execution_count": 6,
     "metadata": {},
     "output_type": "execute_result"
    }
   ],
   "source": [
    "# Missing Values Percentage\n",
    "missing_values = credit_card.isna().mean().sort_values(ascending = False)\n",
    "missing_values = missing_values[missing_values > 0]*100\n",
    "missing_values"
   ]
  },
  {
   "cell_type": "code",
   "execution_count": 7,
   "id": "64e99f30",
   "metadata": {},
   "outputs": [
    {
     "data": {
      "text/plain": [
       "Text(0.5, 1.0, 'Missing Values in Percentage')"
      ]
     },
     "execution_count": 7,
     "metadata": {},
     "output_type": "execute_result"
    },
    {
     "data": {
      "image/png": "[encoded data removed]",
      "text/plain": [
       "<Figure size 720x504 with 1 Axes>"
      ]
     },
     "metadata": {},
     "output_type": "display_data"
    }
   ],
   "source": [
    "# Plot Missing Values\n",
    "miss_plot = missing_values.plot.bar(figsize = (10, 7), \n",
    "                                    fontsize = 15, \n",
    "                                    color = \"c\", \n",
    "                                    alpha = 0.9,\n",
    "                                    rot = 0)\n",
    "miss_plot.set_title(\"Missing Values in Percentage\", fontdict = {'fontsize': 20})"
   ]
  },
  {
   "cell_type": "markdown",
   "id": "7cb87264",
   "metadata": {},
   "source": [
    "## Box Plots of Features"
   ]
  },
  {
   "cell_type": "markdown",
   "id": "bfa8ec96",
   "metadata": {},
   "source": [
    "Most of the features have outliers then it could be better apply K-mediods instead of K-means."
   ]
  },
  {
   "cell_type": "code",
   "execution_count": 8,
   "id": "cee5e7c7",
   "metadata": {
    "scrolled": false
   },
   "outputs": [
    {
     "data": {
      "image/png": "[encoded data removed]",
      "text/plain": [
       "<Figure size 1080x1800 with 18 Axes>"
      ]
     },
     "metadata": {},
     "output_type": "display_data"
    }
   ],
   "source": [
    "# Box Plots\n",
    "fig, axes = plt.subplots(nrows = 6, ncols=3, figsize=(15, 25))\n",
    "axes = axes.flat\n",
    "cols = credit_card.select_dtypes(include=['float64', 'int64']).columns\n",
    "for i, col in enumerate(cols):\n",
    "    sns.boxplot(x = credit_card[col], ax = axes[i])"
   ]
  },
  {
   "cell_type": "markdown",
   "id": "79d22860",
   "metadata": {},
   "source": [
    "# Data Preparation"
   ]
  },
  {
   "cell_type": "markdown",
   "id": "26cc023d",
   "metadata": {},
   "source": [
    "## Neccesary Data"
   ]
  },
  {
   "cell_type": "markdown",
   "id": "66ee1230",
   "metadata": {},
   "source": [
    "We can drop the `CUST_ID` column beacuse it is not necessary for the clustering."
   ]
  },
  {
   "cell_type": "code",
   "execution_count": 9,
   "id": "c70163bd",
   "metadata": {},
   "outputs": [],
   "source": [
    "credit_card_costumer = credit_card[\"CUST_ID\"]\n",
    "credit_card = credit_card.drop(\"CUST_ID\", axis = 1)"
   ]
  },
  {
   "cell_type": "markdown",
   "id": "4f66fc86",
   "metadata": {},
   "source": [
    "## Filling Missing Values"
   ]
  },
  {
   "cell_type": "code",
   "execution_count": 10,
   "id": "dbdcdae4",
   "metadata": {},
   "outputs": [],
   "source": [
    "imp_median = SimpleImputer(missing_values = np.nan, strategy = \"mean\")\n",
    "X = imp_median.fit_transform(credit_card)"
   ]
  },
  {
   "cell_type": "code",
   "execution_count": 11,
   "id": "2e6b0866",
   "metadata": {},
   "outputs": [
    {
     "data": {
      "text/plain": [
       "0"
      ]
     },
     "execution_count": 11,
     "metadata": {},
     "output_type": "execute_result"
    }
   ],
   "source": [
    "np.isnan(X).sum()"
   ]
  },
  {
   "cell_type": "markdown",
   "id": "de18c88e",
   "metadata": {},
   "source": [
    "## Data Normalization"
   ]
  },
  {
   "cell_type": "markdown",
   "id": "38819693",
   "metadata": {},
   "source": [
    "If a variable has a much larger scale than the rest, it will largely determine the distance/similarity value obtained when comparing observations, thus driving the final clustering. Scaling and centering the variables before calculating the distance matrix so that they have mean 0 and standard deviation 1, ensures that all variables have the same weight when clustering is performed.\n",
    "\n",
    "The most common way to achieve this is the normalization:\n",
    "\n",
    "$$\\frac{x_i - mean(x)}{std(x)}$$"
   ]
  },
  {
   "cell_type": "code",
   "execution_count": 12,
   "id": "aacb3ec8",
   "metadata": {},
   "outputs": [],
   "source": [
    "scaler = StandardScaler()\n",
    "X_scaled = scaler.fit_transform(X)"
   ]
  },
  {
   "cell_type": "markdown",
   "id": "82656eb5",
   "metadata": {},
   "source": [
    "# K-means"
   ]
  },
  {
   "cell_type": "markdown",
   "id": "48df0ffd",
   "metadata": {},
   "source": [
    "## PCA to view the \"clusters\""
   ]
  },
  {
   "cell_type": "markdown",
   "id": "c9b8d15d",
   "metadata": {},
   "source": [
    "Take the `n_components` of PCA such that it represents at least the $90\\%$ of the variance."
   ]
  },
  {
   "cell_type": "code",
   "execution_count": 13,
   "id": "af19f4cb",
   "metadata": {},
   "outputs": [],
   "source": [
    "# Your code here\n",
    "pca = PCA(n_components = 0.9, random_state = RANDOM_STATE).fit(X_scaled)\n",
    "X_pca = pca.transform(X_scaled)"
   ]
  },
  {
   "cell_type": "markdown",
   "id": "69ca3920",
   "metadata": {},
   "source": [
    "We need just $10$ Principal Components to achieve to explain at least the $90\\%$ of the variance."
   ]
  },
  {
   "cell_type": "code",
   "execution_count": 14,
   "id": "1cdac3ad",
   "metadata": {},
   "outputs": [
    {
     "data": {
      "text/plain": [
       "(8950, 10)"
      ]
     },
     "execution_count": 14,
     "metadata": {},
     "output_type": "execute_result"
    }
   ],
   "source": [
    "X_pca.shape"
   ]
  },
  {
   "cell_type": "code",
   "execution_count": 15,
   "id": "09ab2e27",
   "metadata": {},
   "outputs": [
    {
     "name": "stdout",
     "output_type": "stream",
     "text": [
      "The PCA enplain the: 0.9193 % of the variance.\n"
     ]
    }
   ],
   "source": [
    "print(\"The PCA enplain the:\", round(pca.explained_variance_ratio_.sum(), 4), \"% of the variance.\")"
   ]
  },
  {
   "cell_type": "markdown",
   "id": "ef2487b7",
   "metadata": {},
   "source": [
    "No clusters are visible with $K = 2$"
   ]
  },
  {
   "cell_type": "code",
   "execution_count": 16,
   "id": "9e1dd9ba",
   "metadata": {},
   "outputs": [
    {
     "data": {
      "text/plain": [
       "Text(0.5, 1.0, 'Two Components of PCA \\n $var\\\\_explained = $0.4759 with $K = 2$')"
      ]
     },
     "execution_count": 16,
     "metadata": {},
     "output_type": "execute_result"
    },
    {
     "data": {
      "image/png": "[encoded data removed]",
      "text/plain": [
       "<Figure size 432x288 with 1 Axes>"
      ]
     },
     "metadata": {},
     "output_type": "display_data"
    }
   ],
   "source": [
    "var_explained_2 = round(pca.explained_variance_ratio_[0:2].sum(), 4)\n",
    "plt.scatter(X_pca[:, 0], X_pca[:, 1])\n",
    "plt.title(f\"Two Components of PCA \\n $var\\_explained = ${var_explained_2} with $K = 2$\")"
   ]
  },
  {
   "cell_type": "markdown",
   "id": "efdfb293",
   "metadata": {},
   "source": [
    "## Number of clusters"
   ]
  },
  {
   "cell_type": "markdown",
   "id": "dec1c76b",
   "metadata": {},
   "source": [
    "### Elbow Method"
   ]
  },
  {
   "cell_type": "code",
   "execution_count": 22,
   "id": "51881683",
   "metadata": {},
   "outputs": [
    {
     "name": "stderr",
     "output_type": "stream",
     "text": [
      "100%|██████████████████████████████████████████████████████████████████████████████████| 14/14 [00:25<00:00,  1.79s/it]\n"
     ]
    }
   ],
   "source": [
    "range_n_clusters = range(1, 15)\n",
    "inertias = []\n",
    "\n",
    "for n_clusters in tqdm(range_n_clusters):\n",
    "    model_kmeans = KMeans(\n",
    "                        n_clusters   = n_clusters, \n",
    "                        n_init       = 20, \n",
    "                        random_state = RANDOM_STATE\n",
    "                    )\n",
    "    model_kmeans.fit(X_scaled)\n",
    "    inertias.append(model_kmeans.inertia_)"
   ]
  },
  {
   "cell_type": "markdown",
   "id": "99378c42",
   "metadata": {},
   "source": [
    "It is not clear in what is the best $K$ value, then we need to use the formaly Elbow Method."
   ]
  },
  {
   "cell_type": "code",
   "execution_count": 23,
   "id": "2525e7bc",
   "metadata": {},
   "outputs": [
    {
     "data": {
      "text/plain": [
       "Text(0, 0.5, 'Intra-cluster (inertia)')"
      ]
     },
     "execution_count": 23,
     "metadata": {},
     "output_type": "execute_result"
    },
    {
     "data": {
      "image/png": "[encoded data removed]",
      "text/plain": [
       "<Figure size 432x276.48 with 1 Axes>"
      ]
     },
     "metadata": {},
     "output_type": "display_data"
    }
   ],
   "source": [
    "fig, ax = plt.subplots(1, 1, figsize=(6, 3.84))\n",
    "ax.plot(range_n_clusters, inertias, marker='o')\n",
    "ax.set_title(\"Evolution of the total variance intra-cluster\")\n",
    "ax.set_xlabel('Clusters(K)')\n",
    "ax.set_ylabel('Intra-cluster (inertia)')"
   ]
  },
  {
   "cell_type": "markdown",
   "id": "311b8f97",
   "metadata": {},
   "source": [
    "When working with k-means, we optimize the sum of squared distances between the observations and their centroids.\n",
    "\n",
    "$$J(C) = \\sum_{k=1}^K\\sum_{i~\\in~C_k} ||x_i - \\mu_k||^2 \\rightarrow \\min\\limits_K,$$\n",
    "\n",
    "where $C$ – is a set of clusters with power $K$, $\\mu_k$ is a centroid of a cluster $C_k$.\n",
    "\n",
    "In the Elbow Method, we choose a number of clusters after which a function $J(C_k)$ is decreasing less rapidly. More formally,\n",
    "$$D(k) = \\frac{|J(C_k) - J(C_{k+1})|}{|J(C_{k-1}) - J(C_k)|}  \\rightarrow \\min\\limits_k $$"
   ]
  },
  {
   "cell_type": "code",
   "execution_count": 55,
   "id": "1fedbc0d",
   "metadata": {},
   "outputs": [
    {
     "data": {
      "text/html": [
       "<div>\n",
       "<style scoped>\n",
       "    .dataframe tbody tr th:only-of-type {\n",
       "        vertical-align: middle;\n",
       "    }\n",
       "\n",
       "    .dataframe tbody tr th {\n",
       "        vertical-align: top;\n",
       "    }\n",
       "\n",
       "    .dataframe thead th {\n",
       "        text-align: right;\n",
       "    }\n",
       "</style>\n",
       "<table border=\"1\" class=\"dataframe\">\n",
       "  <thead>\n",
       "    <tr style=\"text-align: right;\">\n",
       "      <th></th>\n",
       "      <th>elbow</th>\n",
       "      <th>K</th>\n",
       "    </tr>\n",
       "  </thead>\n",
       "  <tbody>\n",
       "    <tr>\n",
       "      <th>2</th>\n",
       "      <td>0.586334</td>\n",
       "      <td>4</td>\n",
       "    </tr>\n",
       "  </tbody>\n",
       "</table>\n",
       "</div>"
      ],
      "text/plain": [
       "      elbow  K\n",
       "2  0.586334  4"
      ]
     },
     "execution_count": 55,
     "metadata": {},
     "output_type": "execute_result"
    }
   ],
   "source": [
    "# Elbow Method\n",
    "df_inertias = pd.DataFrame({\"elbow\": inertias})\n",
    "elbow = (df_inertias.shift(-1) - df_inertias.shift(-2))/(df_inertias - df_inertias.shift(-1))\n",
    "elbow[\"K\"] = range(2, len(elbow) + 2)\n",
    "elbow[elbow.elbow.min() == elbow.elbow]"
   ]
  },
  {
   "cell_type": "markdown",
   "id": "2ff9fd5b",
   "metadata": {},
   "source": [
    "In this case $K = 4$"
   ]
  },
  {
   "cell_type": "code",
   "execution_count": null,
   "id": "bb74d263",
   "metadata": {},
   "outputs": [],
   "source": []
  },
  {
   "cell_type": "code",
   "execution_count": null,
   "id": "13a17cf8",
   "metadata": {},
   "outputs": [],
   "source": []
  },
  {
   "cell_type": "code",
   "execution_count": null,
   "id": "db49e3ee",
   "metadata": {},
   "outputs": [],
   "source": []
  },
  {
   "cell_type": "code",
   "execution_count": null,
   "id": "bc5fda51",
   "metadata": {},
   "outputs": [],
   "source": []
  },
  {
   "cell_type": "code",
   "execution_count": null,
   "id": "fd14bd97",
   "metadata": {},
   "outputs": [],
   "source": []
  },
  {
   "cell_type": "code",
   "execution_count": null,
   "id": "2edb8177",
   "metadata": {},
   "outputs": [],
   "source": []
  },
  {
   "cell_type": "code",
   "execution_count": null,
   "id": "69aeeb8c",
   "metadata": {},
   "outputs": [],
   "source": []
  },
  {
   "cell_type": "code",
   "execution_count": null,
   "id": "a58f1842",
   "metadata": {},
   "outputs": [],
   "source": []
  },
  {
   "cell_type": "code",
   "execution_count": null,
   "id": "f471aac4",
   "metadata": {},
   "outputs": [],
   "source": [
    "# Método elbow para identificar el número óptimo de clusters\n",
    "# ==============================================================================\n",
    "range_n_clusters = range(1, 15)\n",
    "inertias = []\n",
    "\n",
    "for n_clusters in range_n_clusters:\n",
    "    modelo_kmeans = KMeans(\n",
    "                        n_clusters   = n_clusters, \n",
    "                        n_init       = 20, \n",
    "                        random_state = 123\n",
    "                    )\n",
    "    modelo_kmeans.fit(X_scaled)\n",
    "    inertias.append(modelo_kmeans.inertia_)\n",
    "\n",
    "fig, ax = plt.subplots(1, 1, figsize=(6, 3.84))\n",
    "ax.plot(range_n_clusters, inertias, marker='o')\n",
    "ax.set_title(\"Evolución de la varianza intra-cluster total\")\n",
    "ax.set_xlabel('Número clusters')\n",
    "ax.set_ylabel('Intra-cluster (inertia)');\n",
    "\n",
    "A partir de 4 clusters la reducción en la suma total de cuadrados internos parece estabilizarse, indicando que K = 4 es una buena opción.\n",
    "\n",
    "# Método silhouette para identificar el número óptimo de clusters\n",
    "# ==============================================================================\n",
    "range_n_clusters = range(2, 15)\n",
    "valores_medios_silhouette = []\n",
    "\n",
    "for n_clusters in range_n_clusters:\n",
    "    modelo_kmeans = KMeans(\n",
    "                        n_clusters   = n_clusters, \n",
    "                        n_init       = 20, \n",
    "                        random_state = 123\n",
    "                    )\n",
    "    cluster_labels = modelo_kmeans.fit_predict(X_scaled)\n",
    "    silhouette_avg = silhouette_score(X_scaled, cluster_labels)\n",
    "    valores_medios_silhouette.append(silhouette_avg)\n",
    "    \n",
    "fig, ax = plt.subplots(1, 1, figsize=(6, 3.84))\n",
    "ax.plot(range_n_clusters, valores_medios_silhouette, marker='o')\n",
    "ax.set_title(\"Evolución de media de los índices silhouette\")\n",
    "ax.set_xlabel('Número clusters')\n",
    "ax.set_ylabel('Media índices silhouette');\n",
    "\n",
    "El valor medio de los índices silhouette se maximiza con 4 clusters. Acorde a este criterio, K = 4 es la mejor opción.\n",
    "\n",
    "Ambos criterios, elbow y silhouette, identifican el valor K= como valor óptim"
   ]
  },
  {
   "cell_type": "code",
   "execution_count": null,
   "id": "1b9fb9cc",
   "metadata": {},
   "outputs": [],
   "source": []
  },
  {
   "cell_type": "code",
   "execution_count": null,
   "id": "878a58ae",
   "metadata": {},
   "outputs": [],
   "source": []
  },
  {
   "cell_type": "markdown",
   "id": "91c44b99",
   "metadata": {},
   "source": [
    "# Unsupervised Learning"
   ]
  },
  {
   "cell_type": "markdown",
   "id": "5d8ce9a7",
   "metadata": {},
   "source": [
    "The main feature of unsupervised learning algorithms, when compared to classification and regression methods, is that input data are unlabeled (i.e. no labels or classes given) and that the algorithm learns the structure of the data without any assistance.\n",
    "\n",
    "**Advantage:**\n",
    "- Process large amounts of data because the data does not need to be manually labeled.\n",
    "\n",
    "**Disadvantage:**\n",
    "- It is difficult to evaluate the quality of an unsupervised algorithm due to the absence of an explicit goodness metric as used in supervised learning"
   ]
  },
  {
   "cell_type": "markdown",
   "id": "a75e11b3",
   "metadata": {},
   "source": [
    "# Clustering"
   ]
  },
  {
   "cell_type": "markdown",
   "id": "251886a9",
   "metadata": {},
   "source": [
    "The main idea behind clustering is pretty straightforward. Basically, we say to ourselves, \"**I have these points here, and I can see that they organize into groups. It would be nice to describe these things more concretely, and, when a new point comes in, assign it to the correct group.**\""
   ]
  },
  {
   "cell_type": "code",
   "execution_count": null,
   "id": "4a2b63b2",
   "metadata": {},
   "outputs": [],
   "source": []
  },
  {
   "cell_type": "code",
   "execution_count": null,
   "id": "88dbc776",
   "metadata": {},
   "outputs": [],
   "source": []
  },
  {
   "cell_type": "code",
   "execution_count": null,
   "id": "0955806e",
   "metadata": {},
   "outputs": [],
   "source": []
  },
  {
   "cell_type": "code",
   "execution_count": null,
   "id": "bd04580a",
   "metadata": {},
   "outputs": [],
   "source": []
  },
  {
   "cell_type": "code",
   "execution_count": null,
   "id": "1dd32d5e",
   "metadata": {},
   "outputs": [],
   "source": []
  }
 ],
 "metadata": {
  "kernelspec": {
   "display_name": "ds",
   "language": "python",
   "name": "ds"
  },
  "language_info": {
   "codemirror_mode": {
    "name": "ipython",
    "version": 3
   },
   "file_extension": ".py",
   "mimetype": "text/x-python",
   "name": "python",
   "nbconvert_exporter": "python",
   "pygments_lexer": "ipython3",
   "version": "3.10.0"
  },
  "toc": {
   "base_numbering": 1,
   "nav_menu": {},
   "number_sections": true,
   "sideBar": true,
   "skip_h1_title": false,
   "title_cell": "Table of Contents",
   "title_sidebar": "Contents",
   "toc_cell": false,
   "toc_position": {},
   "toc_section_display": true,
   "toc_window_display": false
  }
 },
 "nbformat": 4,
 "nbformat_minor": 5
}
